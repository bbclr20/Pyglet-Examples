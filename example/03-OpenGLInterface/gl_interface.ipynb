{
 "cells": [
  {
   "cell_type": "markdown",
   "metadata": {},
   "source": [
    "# Using OpenGL interface"
   ]
  },
  {
   "cell_type": "code",
   "execution_count": 1,
   "metadata": {},
   "outputs": [],
   "source": [
    "import pyglet\n",
    "from pyglet.gl import *"
   ]
  },
  {
   "cell_type": "code",
   "execution_count": 2,
   "metadata": {},
   "outputs": [],
   "source": [
    "# Disable error checking for increased performance\n",
    "pyglet.options['debug_gl'] = False"
   ]
  },
  {
   "cell_type": "markdown",
   "metadata": {},
   "source": [
    "All function names and constants are identical to the **C counterparts**."
   ]
  },
  {
   "cell_type": "code",
   "execution_count": 3,
   "metadata": {},
   "outputs": [],
   "source": [
    "window = pyglet.window.Window()\n",
    "\n",
    "@window.event\n",
    "def on_draw():\n",
    "    glClear(GL_COLOR_BUFFER_BIT)\n",
    "    glLoadIdentity()\n",
    "    \n",
    "    glBegin(GL_TRIANGLES)\n",
    "    glVertex2f(0, 0)\n",
    "    glVertex2f(window.width, 0)\n",
    "    glVertex2f(window.width, window.height) \n",
    "    glEnd()\n",
    "\n",
    "pyglet.app.run()"
   ]
  },
  {
   "cell_type": "markdown",
   "metadata": {},
   "source": [
    "create an array of **2D** vertices"
   ]
  },
  {
   "cell_type": "code",
   "execution_count": 2,
   "metadata": {},
   "outputs": [],
   "source": [
    "window = pyglet.window.Window()\n",
    "\n",
    "vertices = [\n",
    "    0, 0,\n",
    "    window.width, 0,\n",
    "    window.width, window.height\n",
    "]\n",
    "\n",
    "# allocate memory\n",
    "vertices_gl_array = (GLfloat * len(vertices))(*vertices)\n",
    "glEnableClientState(GL_VERTEX_ARRAY) # enable vertex array\n",
    "glVertexPointer(\n",
    "    2,         # num of coordinates per vertex\n",
    "    GL_FLOAT,  # type\n",
    "    0,         # byte offset between consecutive vertices\n",
    "    vertices_gl_array\n",
    ")\n",
    "\n",
    "@window.event\n",
    "def on_draw():\n",
    "    glClear(GL_COLOR_BUFFER_BIT)\n",
    "    glLoadIdentity()\n",
    "    \n",
    "    glDrawArrays(\n",
    "        GL_TRIANGLES,      # mode\n",
    "        0,                 # starting index\n",
    "        len(vertices) // 2 # count\n",
    "    )\n",
    "\n",
    "pyglet.app.run()"
   ]
  },
  {
   "cell_type": "code",
   "execution_count": 10,
   "metadata": {},
   "outputs": [],
   "source": [
    "window = pyglet.window.Window()\n",
    "\n",
    "vertices = [\n",
    "    0, 0,\n",
    "    window.width, 0,\n",
    "    window.width, window.height,\n",
    "]\n",
    "\n",
    "vertices_gl_array = (GLfloat * len(vertices))(*vertices)\n",
    "\n",
    "glEnableClientState(GL_VERTEX_ARRAY)\n",
    "glVertexPointer(2, GL_FLOAT, 0, vertices_gl_array)\n",
    "\n",
    "@window.event\n",
    "def on_resize(width, height):\n",
    "    glViewport(0, 0, width, height)\n",
    "    glMatrixMode(gl.GL_PROJECTION)\n",
    "    glLoadIdentity()\n",
    "    glOrtho(0, width, 0, height, -1, 1)\n",
    "    glMatrixMode(gl.GL_MODELVIEW)\n",
    "    \n",
    "@window.event\n",
    "def on_draw():\n",
    "    glClear(GL_COLOR_BUFFER_BIT)\n",
    "    glLoadIdentity()\n",
    "    \n",
    "    glDrawArrays(\n",
    "        GL_POLYGON,        # mode\n",
    "        0,                 # starting index\n",
    "        len(vertices) // 2 # count\n",
    "    )\n",
    "\n",
    "pyglet.app.run()"
   ]
  },
  {
   "cell_type": "code",
   "execution_count": null,
   "metadata": {},
   "outputs": [],
   "source": []
  }
 ],
 "metadata": {
  "kernelspec": {
   "display_name": "Python 3",
   "language": "python",
   "name": "python3"
  },
  "language_info": {
   "codemirror_mode": {
    "name": "ipython",
    "version": 3
   },
   "file_extension": ".py",
   "mimetype": "text/x-python",
   "name": "python",
   "nbconvert_exporter": "python",
   "pygments_lexer": "ipython3",
   "version": "3.5.2"
  }
 },
 "nbformat": 4,
 "nbformat_minor": 2
}
